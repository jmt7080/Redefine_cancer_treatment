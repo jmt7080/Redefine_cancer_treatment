{
 "cells": [
  {
   "cell_type": "code",
   "execution_count": 1,
   "metadata": {
    "collapsed": false
   },
   "outputs": [
    {
     "name": "stderr",
     "output_type": "stream",
     "text": [
      "C:\\Users\\mingt\\AppData\\Local\\Continuum\\Anaconda3\\lib\\site-packages\\sklearn\\cross_validation.py:41: DeprecationWarning: This module was deprecated in version 0.18 in favor of the model_selection module into which all the refactored classes and functions are moved. Also note that the interface of the new CV iterators are different from that of this module. This module will be removed in 0.20.\n",
      "  \"This module will be removed in 0.20.\", DeprecationWarning)\n",
      "C:\\Users\\mingt\\AppData\\Local\\Continuum\\Anaconda3\\lib\\site-packages\\sklearn\\grid_search.py:42: DeprecationWarning: This module was deprecated in version 0.18 in favor of the model_selection module into which all the refactored classes and functions are moved. This module will be removed in 0.20.\n",
      "  DeprecationWarning)\n"
     ]
    }
   ],
   "source": [
    "import numpy as np\n",
    "import pandas as pd\n",
    "from xgboost import XGBClassifier\n",
    "from sklearn.pipeline import FeatureUnion, Pipeline\n",
    "from sklearn.base import BaseEstimator, TransformerMixin\n",
    "from sklearn.feature_extraction.text import TfidfVectorizer, CountVectorizer, TfidfTransformer\n",
    "from sklearn.feature_extraction import DictVectorizer\n",
    "from sklearn.utils.extmath import randomized_svd\n",
    "from sklearn.decomposition import TruncatedSVD\n",
    "from sklearn.preprocessing import LabelEncoder, label_binarize\n",
    "from scipy import sparse\n",
    "from sklearn.grid_search import GridSearchCV\n",
    "from sklearn.cross_validation import train_test_split\n",
    "import mca\n",
    "import xgboost as xgb\n",
    "from xgboost import XGBClassifier, plot_importance\n",
    "import seaborn as sns\n",
    "import matplotlib.pyplot as plt\n",
    "from wordcloud import WordCloud, STOPWORDS\n",
    "from sklearn.metrics import log_loss, accuracy_score, roc_curve, auc, confusion_matrix\n",
    "from sklearn.multiclass import OneVsRestClassifier\n",
    "from sklearn.ensemble import GradientBoostingClassifier\n",
    "\n",
    "%matplotlib inline"
   ]
  },
  {
   "cell_type": "code",
   "execution_count": 2,
   "metadata": {
    "collapsed": false
   },
   "outputs": [],
   "source": [
    "#stage 1 data\n",
    "train_variants = pd.read_csv('C:\\\\Users\\\\mingt\\\\Downloads\\\\cancer\\\\training_variants')\n",
    "test_variants = pd.read_csv('C:\\\\Users\\\\mingt\\\\Downloads\\\\cancer\\\\test_variants')\n",
    "train_text = pd.read_csv('C:\\\\Users\\\\mingt\\\\Downloads\\\\cancer\\\\training_text', sep=\"\\|\\|\", engine='python',\n",
    "                         header=None, skiprows=1, names=[\"ID\", \"Text\"])\n",
    "test_text = pd.read_csv('C:\\\\Users\\\\mingt\\\\Downloads\\\\cancer\\\\test_text', sep=\"\\|\\|\", engine='python',\n",
    "                        header=None, skiprows=1, names=[\"ID\", \"Text\"])\n",
    "\n",
    "train_combined = pd.merge(train_variants, train_text, how='left', on='ID').fillna('Null')\n",
    "test_combined = pd.merge(test_variants, test_text, how='left', on='ID').fillna('Null')\n",
    "\n",
    "#stage 2 data\n",
    "s1_solution = pd.read_csv('C:\\\\Users\\\\mingt\\\\Downloads\\\\\\cancer\\\\stage1_solution_filtered.csv\\\\stage1_solution_filtered.csv')\n",
    "#s2_private_solution = pd.read_csv('\\cancer\\stage_2_private_solution.csv\\stage_2_private_solution.csv')\n",
    "#s2_sample = pd.read_csv('\\cancer\\stage2_sample_submission.csv\\stage2_sample_submission.csv')\n",
    "#s2_test_text = pd.read_csv('\\cancer\\stage2_test_text.csv\\stage2_test_text.csv', sep=\"\\|\\|\", engine='python',\n",
    "                        #header=None, skiprows=1, names=[\"ID\", \"Text\"])\n",
    "#s2_test_variants = pd.read_csv('\\cancer\\stage2_test_variants.csv\\stage2_test_variants.csv')\n"
   ]
  },
  {
   "cell_type": "markdown",
   "metadata": {},
   "source": [
    "# Data Exploration"
   ]
  },
  {
   "cell_type": "code",
   "execution_count": null,
   "metadata": {
    "collapsed": true
   },
   "outputs": [],
   "source": [
    "print(\"Out of \" + str(len(train_combined)) + \" training cases, there are:\")\n",
    "print(str(len(train_combined['Gene'].unique())) + \" unique Genes\")\n",
    "print(str(len(train_combined['Variation'].unique())) + \" unique Variations\")\n",
    "print(str(len(train_combined['Text'].unique())) + \" unique Texts\\n\")\n",
    "\n",
    "print(\"Out of \" + str(len(test_combined)) + \" testing cases, there are:\")\n",
    "print(str(len(test_combined['Gene'].unique())) + \" unique Genes\")\n",
    "print(str(len(test_combined['Variation'].unique())) + \" unique Variations\")\n",
    "print(str(len(test_combined['Text'].unique())) + \" unique Texts\")\n",
    "\n",
    "print(train_combined.head(10))"
   ]
  },
  {
   "cell_type": "markdown",
   "metadata": {},
   "source": [
    "# Exploratory Visualization"
   ]
  },
  {
   "cell_type": "code",
   "execution_count": 16,
   "metadata": {
    "collapsed": false,
    "scrolled": true
   },
   "outputs": [
    {
     "data": {
      "text/plain": [
       "<matplotlib.text.Text at 0x17bd4156550>"
      ]
     },
     "execution_count": 16,
     "metadata": {},
     "output_type": "execute_result"
    },
    {
     "data": {
      "image/png": "[encoded data removed]",
      "text/plain": [
       "<matplotlib.figure.Figure at 0x17bd7b457b8>"
      ]
     },
     "metadata": {},
     "output_type": "display_data"
    }
   ],
   "source": [
    "sns.set_style(\"darkgrid\")\n",
    "\n",
    "#Fig 1\n",
    "class_counts = pd.value_counts(train_combined['Class'].values, sort=True)\n",
    "classes = class_counts.index.values\n",
    "sns.barplot(x=classes, y=class_counts, order= classes.tolist()).set_title('Counts of Each Mutation Class')"
   ]
  },
  {
   "cell_type": "code",
   "execution_count": 18,
   "metadata": {
    "collapsed": false
   },
   "outputs": [
    {
     "name": "stdout",
     "output_type": "stream",
     "text": [
      "BRCA1     264\n",
      "TP53      163\n",
      "EGFR      141\n",
      "PTEN      126\n",
      "BRCA2     125\n",
      "KIT        99\n",
      "BRAF       93\n",
      "ALK        69\n",
      "ERBB2      69\n",
      "PDGFRA     60\n",
      "PIK3CA     56\n",
      "CDKN2A     52\n",
      "FGFR2      50\n",
      "FLT3       49\n",
      "TSC2       47\n",
      "dtype: int64\n"
     ]
    },
    {
     "data": {
      "image/png": "[encoded data removed]",
      "text/plain": [
       "<matplotlib.figure.Figure at 0x17bd5f480b8>"
      ]
     },
     "metadata": {},
     "output_type": "display_data"
    }
   ],
   "source": [
    "#Fig 2\n",
    "gene_counts = pd.value_counts(train_combined['Gene'].values, sort=True)\n",
    "genes = gene_counts.index.values\n",
    "sns.barplot(x=genes, y=gene_counts, order=genes.tolist()).set_title('Counts of Each Gene')\n",
    "print(gene_counts.head(15))"
   ]
  },
  {
   "cell_type": "code",
   "execution_count": 9,
   "metadata": {
    "collapsed": true
   },
   "outputs": [
    {
     "name": "stdout",
     "output_type": "stream",
     "text": [
      "Truncating Mutations    93\n",
      "Deletion                74\n",
      "Amplification           71\n",
      "Fusions                 34\n",
      "Overexpression           6\n",
      "G12V                     4\n",
      "T58I                     3\n",
      "Q61H                     3\n",
      "Q61R                     3\n",
      "E17K                     3\n",
      "Q61L                     3\n",
      "R841K                    2\n",
      "G35R                     2\n",
      "T73I                     2\n",
      "Q22K                     2\n",
      "dtype: int64\n",
      "S502T                    1\n",
      "G719D                    1\n",
      "C24Y                     1\n",
      "Y791F                    1\n",
      "D84H                     1\n",
      "C125S                    1\n",
      "P577S                    1\n",
      "I744_K745delinsKIPVAI    1\n",
      "V561A                    1\n",
      "V1398D                   1\n",
      "S170R                    1\n",
      "N2113S                   1\n",
      "H701P                    1\n",
      "E281K                    1\n",
      "R1699Q                   1\n",
      "dtype: int64\n"
     ]
    }
   ],
   "source": [
    "#Fig 3\n",
    "variation_counts = pd.value_counts(train_combined['Variation'].values, sort=True)\n",
    "print(variation_counts.head(15))\n",
    "print(variation_counts.tail(15))"
   ]
  },
  {
   "cell_type": "code",
   "execution_count": 30,
   "metadata": {
    "collapsed": true
   },
   "outputs": [
    {
     "data": {
      "text/plain": [
       "<matplotlib.axes._subplots.AxesSubplot at 0x17bd7f539b0>"
      ]
     },
     "execution_count": 30,
     "metadata": {},
     "output_type": "execute_result"
    },
    {
     "data": {
      "image/png": "[encoded data removed]",
      "text/plain": [
       "<matplotlib.figure.Figure at 0x17bd7f59080>"
      ]
     },
     "metadata": {},
     "output_type": "display_data"
    }
   ],
   "source": [
    "#Fig 5\n",
    "word_count = pd.Series([len(str(x).split(' ')) for x in train_combined['Text']]).rename('Word Count')\n",
    "sns.lvplot(word_count)"
   ]
  },
  {
   "cell_type": "code",
   "execution_count": 38,
   "metadata": {
    "collapsed": true
   },
   "outputs": [
    {
     "name": "stdout",
     "output_type": "stream",
     "text": [
      "dict_keys(['using', 'control', 'samples', 'receptor', 'cells', 'exon', 'activity', 'high', 'used', 'human', 'egfr', 'resistance', 'previously', 'number', '10', '11', 'genes', 'mutation', 'missense', 'wt', 'tumor', 'performed', 'treatment', 'protein', 'loss', 'pathway', 'shown', 'fig', 'ras', 'mutations', 'identified', 'disease', 'phosphorylation', 'functional', 'growth', 'results', 'dna', 'compared', '12', 'expressing', 'mutants', 'structure', 'wild', 'sequence', '14', '20', 'p53', 'described', '15', 'showed', 'type', 'based', 'kinase', 'specific', 'cancer', 'pten', 'response', 'figure', 'amino', 'signaling', 'reported', 'alk', 'raf', 'analysis', 'assay', 'table', 'gene', 'variants', 'activation', 'patients', 'domain', 'studies', 'clinical', 'et', 'including', 'observed', 'brca1', 'data', 'lines', 'residues', 'associated', 'kit', 'different', 'levels', 'supplementary', 'al', 'âˆ', 'cell', 'binding', 'mutant', 'patient', 'study', 'tumors', 'expression', 'cases', 'function', 'site', 'mice', 'proteins', 'assays'])\n"
     ]
    },
    {
     "data": {
      "image/png": "[encoded data removed]",
      "text/plain": [
       "<matplotlib.figure.Figure at 0x17bf131c5f8>"
      ]
     },
     "metadata": {},
     "output_type": "display_data"
    }
   ],
   "source": [
    "#Fig 6\n",
    "count = TfidfVectorizer(stop_words ='english', analyzer='word', max_features=100)\n",
    "count.fit_transform(train_combined['Text'])\n",
    "vocab = count.vocabulary_.keys()\n",
    "\n",
    "wc = WordCloud(background_color='white',\n",
    "                          width=1200,\n",
    "                          height=1000\n",
    "                         ).generate(' '.join(vocab))\n",
    "\n",
    "plt.imshow(wc)\n",
    "plt.axis('off')\n",
    "plt.show()"
   ]
  },
  {
   "cell_type": "markdown",
   "metadata": {},
   "source": [
    "# Data Preprocessing"
   ]
  },
  {
   "cell_type": "code",
   "execution_count": 40,
   "metadata": {
    "collapsed": true
   },
   "outputs": [
    {
     "name": "stdout",
     "output_type": "stream",
     "text": [
      "[[0 0 0 1 1 1 1 1 0 0 1 0 1 1 0 0 1]\n",
      " [1 1 1 1 0 1 0 0 1 1 0 1 0 0 1 1 0]]\n"
     ]
    }
   ],
   "source": [
    "#Fig 9\n",
    "sent = (\"Cyclin-dependent kinases (CDKs) regulate a variety of fundamental cellular processes\" ,\n",
    "        \"CDK10 stands out as one of the last orphan CDKs for which no activating cyclin has been identified and no kinase activity revealed\")\n",
    "count = CountVectorizer(analyzer='word', stop_words='english')\n",
    "count_matrix = count.fit_transform(sent)\n",
    "print(count_matrix.todense())\n"
   ]
  },
  {
   "cell_type": "code",
   "execution_count": 44,
   "metadata": {
    "collapsed": false
   },
   "outputs": [
    {
     "name": "stdout",
     "output_type": "stream",
     "text": [
      "[ 1.40546511  1.40546511  1.40546511  1.          1.40546511  1.\n",
      "  1.40546511  1.40546511  1.40546511  1.40546511  1.40546511  1.40546511\n",
      "  1.40546511  1.40546511  1.40546511  1.40546511  1.40546511]\n"
     ]
    }
   ],
   "source": [
    "#Fig 10\n",
    "tfidf = TfidfVectorizer(analyzer='word',stop_words='english')\n",
    "matrix = tfidf.fit_transform(sent)\n",
    "print(tfidf.idf_)"
   ]
  },
  {
   "cell_type": "code",
   "execution_count": 45,
   "metadata": {
    "collapsed": true
   },
   "outputs": [
    {
     "name": "stdout",
     "output_type": "stream",
     "text": [
      "[[ 0.          0.          0.          0.25136004  0.35327777  0.25136004\n",
      "   0.35327777  0.35327777  0.          0.          0.35327777  0.\n",
      "   0.35327777  0.35327777  0.          0.          0.35327777]\n",
      " [ 0.33310232  0.33310232  0.33310232  0.23700504  0.          0.23700504\n",
      "   0.          0.          0.33310232  0.33310232  0.          0.33310232\n",
      "   0.          0.          0.33310232  0.33310232  0.        ]]\n"
     ]
    }
   ],
   "source": [
    "#Fig 11\n",
    "print(matrix.todense())"
   ]
  },
  {
   "cell_type": "code",
   "execution_count": 50,
   "metadata": {
    "collapsed": true
   },
   "outputs": [
    {
     "name": "stdout",
     "output_type": "stream",
     "text": [
      "[[ 0.70710678  0.70710678]\n",
      " [ 0.70710678 -0.70710678]]\n",
      "[ 1.05789753  0.93853759]\n",
      "[[ 0.22264813  0.22264813  0.22264813  0.32642695  0.23613355  0.32642695\n",
      "   0.23613355  0.23613355  0.22264813  0.22264813  0.23613355  0.22264813\n",
      "   0.23613355  0.23613355  0.22264813  0.22264813  0.23613355]\n",
      " [-0.25096374 -0.25096374 -0.25096374  0.01081525  0.2661642   0.01081525\n",
      "   0.2661642   0.2661642  -0.25096374 -0.25096374  0.2661642  -0.25096374\n",
      "   0.2661642   0.2661642  -0.25096374 -0.25096374  0.2661642 ]]\n",
      "[[ 0.74804652  0.66364629]\n",
      " [ 0.74804652 -0.66364629]]\n"
     ]
    }
   ],
   "source": [
    "#Fig 12\n",
    "U, Sigma, VT = randomized_svd(matrix, n_components = 2, random_state=None)\n",
    "print(U)\n",
    "print(Sigma)\n",
    "print(VT)\n",
    "svd = TruncatedSVD(algorithm='randomized', n_components=2)\n",
    "decomposed = svd.fit_transform(matrix)\n",
    "print(decomposed)"
   ]
  },
  {
   "cell_type": "code",
   "execution_count": 3,
   "metadata": {
    "collapsed": false
   },
   "outputs": [],
   "source": [
    "#Fig 13.\n",
    "dummy_df = pd.get_dummies(train_combined[['Gene', 'Variation']])\n",
    "#dummy_df.head(5)"
   ]
  },
  {
   "cell_type": "code",
   "execution_count": 4,
   "metadata": {
    "collapsed": false
   },
   "outputs": [
    {
     "name": "stdout",
     "output_type": "stream",
     "text": [
      "     Eigenvalues  Expl_Var\n",
      "200     0.594075  0.000661\n",
      "201     0.545530  0.000607\n",
      "202     0.528223  0.000588\n",
      "203     0.503153  0.000560\n",
      "204     0.476915  0.000530\n",
      "205     0.296265  0.000330\n",
      "206     0.249847  0.000278\n",
      "207     0.249847  0.000278\n",
      "208     0.249847  0.000278\n",
      "209     0.249847  0.000278\n"
     ]
    },
    {
     "data": {
      "image/png": "[encoded data removed]",
      "text/plain": [
       "<matplotlib.figure.Figure at 0x23b3934c860>"
      ]
     },
     "metadata": {},
     "output_type": "display_data"
    }
   ],
   "source": [
    "#Fig 14.\n",
    "mca_obj = mca.MCA(dummy_df)\n",
    "\n",
    "eigenvalues = pd.Series(mca_obj.L).rename('Eigenvalues')\n",
    "expl_var= pd.Series(mca_obj.expl_var()).rename('Expl_Var')\n",
    "\n",
    "eig_line, = plt.plot(eigenvalues, label='Eigenvalues', linewidth=4)\n",
    "var_line = plt.plot(expl_var, label='Explained Variance', linewidth=4)\n",
    "legend = plt.legend(handles=[eig_line,var_line[0]], loc=1)\n",
    "\n",
    "eig_n_var = pd.concat([eigenvalues,expl_var], axis =1)\n",
    "print(eig_n_var[200:210])"
   ]
  },
  {
   "cell_type": "code",
   "execution_count": 5,
   "metadata": {
    "collapsed": false,
    "scrolled": true
   },
   "outputs": [
    {
     "data": {
      "text/html": [
       "<div>\n",
       "<style>\n",
       "    .dataframe thead tr:only-child th {\n",
       "        text-align: right;\n",
       "    }\n",
       "\n",
       "    .dataframe thead th {\n",
       "        text-align: left;\n",
       "    }\n",
       "\n",
       "    .dataframe tbody tr th {\n",
       "        vertical-align: top;\n",
       "    }\n",
       "</style>\n",
       "<table border=\"1\" class=\"dataframe\">\n",
       "  <thead>\n",
       "    <tr style=\"text-align: right;\">\n",
       "      <th></th>\n",
       "      <th>mca_factor_0</th>\n",
       "      <th>mca_factor_1</th>\n",
       "      <th>mca_factor_2</th>\n",
       "      <th>mca_factor_3</th>\n",
       "      <th>mca_factor_4</th>\n",
       "      <th>mca_factor_5</th>\n",
       "      <th>mca_factor_6</th>\n",
       "      <th>mca_factor_7</th>\n",
       "      <th>mca_factor_8</th>\n",
       "      <th>mca_factor_9</th>\n",
       "      <th>...</th>\n",
       "      <th>svd_component_90</th>\n",
       "      <th>svd_component_91</th>\n",
       "      <th>svd_component_92</th>\n",
       "      <th>svd_component_93</th>\n",
       "      <th>svd_component_94</th>\n",
       "      <th>svd_component_95</th>\n",
       "      <th>svd_component_96</th>\n",
       "      <th>svd_component_97</th>\n",
       "      <th>svd_component_98</th>\n",
       "      <th>svd_component_99</th>\n",
       "    </tr>\n",
       "  </thead>\n",
       "  <tbody>\n",
       "    <tr>\n",
       "      <th>0</th>\n",
       "      <td>-0.186777</td>\n",
       "      <td>3.050451e-12</td>\n",
       "      <td>-5.018459e-13</td>\n",
       "      <td>-6.349247e-13</td>\n",
       "      <td>-0.218798</td>\n",
       "      <td>-2.653868e-14</td>\n",
       "      <td>-3.372405e-13</td>\n",
       "      <td>-1.927983e-13</td>\n",
       "      <td>-7.685156e-14</td>\n",
       "      <td>1.631584e-13</td>\n",
       "      <td>...</td>\n",
       "      <td>-0.005631</td>\n",
       "      <td>0.013442</td>\n",
       "      <td>-0.016987</td>\n",
       "      <td>0.003697</td>\n",
       "      <td>-0.016460</td>\n",
       "      <td>0.002399</td>\n",
       "      <td>-0.001166</td>\n",
       "      <td>0.011756</td>\n",
       "      <td>0.006075</td>\n",
       "      <td>0.008721</td>\n",
       "    </tr>\n",
       "    <tr>\n",
       "      <th>1</th>\n",
       "      <td>-0.186777</td>\n",
       "      <td>2.657498e-12</td>\n",
       "      <td>-3.988737e-13</td>\n",
       "      <td>-5.215381e-13</td>\n",
       "      <td>-0.218798</td>\n",
       "      <td>-1.609083e-14</td>\n",
       "      <td>-2.599416e-13</td>\n",
       "      <td>-1.650799e-13</td>\n",
       "      <td>-8.378724e-14</td>\n",
       "      <td>1.701549e-13</td>\n",
       "      <td>...</td>\n",
       "      <td>-0.004730</td>\n",
       "      <td>0.002588</td>\n",
       "      <td>0.014317</td>\n",
       "      <td>-0.017940</td>\n",
       "      <td>-0.015963</td>\n",
       "      <td>0.009038</td>\n",
       "      <td>-0.008414</td>\n",
       "      <td>-0.005419</td>\n",
       "      <td>0.001500</td>\n",
       "      <td>0.001861</td>\n",
       "    </tr>\n",
       "    <tr>\n",
       "      <th>2</th>\n",
       "      <td>-0.186777</td>\n",
       "      <td>2.677962e-12</td>\n",
       "      <td>-4.088091e-13</td>\n",
       "      <td>-5.311867e-13</td>\n",
       "      <td>-0.218798</td>\n",
       "      <td>-2.503335e-14</td>\n",
       "      <td>-2.379709e-13</td>\n",
       "      <td>-1.614777e-13</td>\n",
       "      <td>-8.563084e-14</td>\n",
       "      <td>1.652091e-13</td>\n",
       "      <td>...</td>\n",
       "      <td>-0.004730</td>\n",
       "      <td>0.002588</td>\n",
       "      <td>0.014317</td>\n",
       "      <td>-0.017940</td>\n",
       "      <td>-0.015963</td>\n",
       "      <td>0.009038</td>\n",
       "      <td>-0.008414</td>\n",
       "      <td>-0.005419</td>\n",
       "      <td>0.001500</td>\n",
       "      <td>0.001861</td>\n",
       "    </tr>\n",
       "    <tr>\n",
       "      <th>3</th>\n",
       "      <td>-0.186777</td>\n",
       "      <td>2.662501e-12</td>\n",
       "      <td>-3.923163e-13</td>\n",
       "      <td>-5.113791e-13</td>\n",
       "      <td>-0.218798</td>\n",
       "      <td>-2.208263e-14</td>\n",
       "      <td>-2.691171e-13</td>\n",
       "      <td>-1.638718e-13</td>\n",
       "      <td>-8.758582e-14</td>\n",
       "      <td>1.753076e-13</td>\n",
       "      <td>...</td>\n",
       "      <td>-0.005666</td>\n",
       "      <td>0.002582</td>\n",
       "      <td>-0.001971</td>\n",
       "      <td>-0.014833</td>\n",
       "      <td>-0.019053</td>\n",
       "      <td>-0.002349</td>\n",
       "      <td>-0.004888</td>\n",
       "      <td>-0.010667</td>\n",
       "      <td>-0.025167</td>\n",
       "      <td>-0.006884</td>\n",
       "    </tr>\n",
       "    <tr>\n",
       "      <th>4</th>\n",
       "      <td>-0.186777</td>\n",
       "      <td>2.659405e-12</td>\n",
       "      <td>-3.900737e-13</td>\n",
       "      <td>-5.205750e-13</td>\n",
       "      <td>-0.218798</td>\n",
       "      <td>-1.394059e-14</td>\n",
       "      <td>-2.638222e-13</td>\n",
       "      <td>-1.678809e-13</td>\n",
       "      <td>-8.977859e-14</td>\n",
       "      <td>1.785555e-13</td>\n",
       "      <td>...</td>\n",
       "      <td>0.007982</td>\n",
       "      <td>-0.004979</td>\n",
       "      <td>-0.000430</td>\n",
       "      <td>0.017153</td>\n",
       "      <td>0.014919</td>\n",
       "      <td>0.003231</td>\n",
       "      <td>0.001316</td>\n",
       "      <td>0.007082</td>\n",
       "      <td>0.005824</td>\n",
       "      <td>0.006515</td>\n",
       "    </tr>\n",
       "  </tbody>\n",
       "</table>\n",
       "<p>5 rows × 307 columns</p>\n",
       "</div>"
      ],
      "text/plain": [
       "   mca_factor_0  mca_factor_1  mca_factor_2  mca_factor_3  mca_factor_4  \\\n",
       "0     -0.186777  3.050451e-12 -5.018459e-13 -6.349247e-13     -0.218798   \n",
       "1     -0.186777  2.657498e-12 -3.988737e-13 -5.215381e-13     -0.218798   \n",
       "2     -0.186777  2.677962e-12 -4.088091e-13 -5.311867e-13     -0.218798   \n",
       "3     -0.186777  2.662501e-12 -3.923163e-13 -5.113791e-13     -0.218798   \n",
       "4     -0.186777  2.659405e-12 -3.900737e-13 -5.205750e-13     -0.218798   \n",
       "\n",
       "   mca_factor_5  mca_factor_6  mca_factor_7  mca_factor_8  mca_factor_9  \\\n",
       "0 -2.653868e-14 -3.372405e-13 -1.927983e-13 -7.685156e-14  1.631584e-13   \n",
       "1 -1.609083e-14 -2.599416e-13 -1.650799e-13 -8.378724e-14  1.701549e-13   \n",
       "2 -2.503335e-14 -2.379709e-13 -1.614777e-13 -8.563084e-14  1.652091e-13   \n",
       "3 -2.208263e-14 -2.691171e-13 -1.638718e-13 -8.758582e-14  1.753076e-13   \n",
       "4 -1.394059e-14 -2.638222e-13 -1.678809e-13 -8.977859e-14  1.785555e-13   \n",
       "\n",
       "         ...         svd_component_90  svd_component_91  svd_component_92  \\\n",
       "0        ...                -0.005631          0.013442         -0.016987   \n",
       "1        ...                -0.004730          0.002588          0.014317   \n",
       "2        ...                -0.004730          0.002588          0.014317   \n",
       "3        ...                -0.005666          0.002582         -0.001971   \n",
       "4        ...                 0.007982         -0.004979         -0.000430   \n",
       "\n",
       "   svd_component_93  svd_component_94  svd_component_95  svd_component_96  \\\n",
       "0          0.003697         -0.016460          0.002399         -0.001166   \n",
       "1         -0.017940         -0.015963          0.009038         -0.008414   \n",
       "2         -0.017940         -0.015963          0.009038         -0.008414   \n",
       "3         -0.014833         -0.019053         -0.002349         -0.004888   \n",
       "4          0.017153          0.014919          0.003231          0.001316   \n",
       "\n",
       "   svd_component_97  svd_component_98  svd_component_99  \n",
       "0          0.011756          0.006075          0.008721  \n",
       "1         -0.005419          0.001500          0.001861  \n",
       "2         -0.005419          0.001500          0.001861  \n",
       "3         -0.010667         -0.025167         -0.006884  \n",
       "4          0.007082          0.005824          0.006515  \n",
       "\n",
       "[5 rows x 307 columns]"
      ]
     },
     "execution_count": 5,
     "metadata": {},
     "output_type": "execute_result"
    }
   ],
   "source": [
    "#Fig 15. \n",
    "tfidf_obj = TfidfVectorizer(analyzer='word',stop_words='english', max_df=0.9)\n",
    "tfidf_matrix = tfidf_obj.fit_transform(train_combined['Text'])\n",
    "\n",
    "components = 100\n",
    "from sklearn.decomposition import TruncatedSVD\n",
    "svd_obj = TruncatedSVD(algorithm='randomized', n_components=components)\n",
    "decomposed = svd_obj.fit_transform(tfidf_matrix)\n",
    "svd_df = pd.DataFrame(decomposed, columns= ['svd_component_' + str(x) for x in range(components)])\n",
    "\n",
    "factors = 207\n",
    "mca_df = pd.DataFrame(mca_obj.fs_r(N=factors), columns = ['mca_factor_' + str(x) for x in range(factors)])\n",
    "\n",
    "features= pd.concat([mca_df, svd_df], axis=1)\n",
    "features.head(5)"
   ]
  },
  {
   "cell_type": "markdown",
   "metadata": {},
   "source": [
    "# Implementation"
   ]
  },
  {
   "cell_type": "code",
   "execution_count": 7,
   "metadata": {
    "collapsed": false
   },
   "outputs": [
    {
     "name": "stdout",
     "output_type": "stream",
     "text": [
      "0.919233136634\n"
     ]
    },
    {
     "data": {
      "text/plain": [
       "<matplotlib.axes._subplots.AxesSubplot at 0x23b091e7320>"
      ]
     },
     "execution_count": 7,
     "metadata": {},
     "output_type": "execute_result"
    },
    {
     "data": {
      "image/png": "[encoded data removed]",
      "text/plain": [
       "<matplotlib.figure.Figure at 0x23b090b8358>"
      ]
     },
     "metadata": {},
     "output_type": "display_data"
    }
   ],
   "source": [
    "#Fig 16\n",
    "lbe = LabelEncoder()\n",
    "target = lbe.fit_transform(train_combined['Class'])\n",
    "\n",
    "X_train, X_test, y_train, y_test = train_test_split(features, target, \n",
    "                                                    test_size=0.1, random_state=7)\n",
    "\n",
    "xgbC = XGBClassifier()\n",
    "xgbC.fit(X_train, y_train)\n",
    "\n",
    "pred = xgbC.predict_proba(X_test)\n",
    "print(log_loss(y_test, pred))\n",
    "\n",
    "plot_importance(xgbC)"
   ]
  },
  {
   "cell_type": "code",
   "execution_count": 47,
   "metadata": {
    "collapsed": false,
    "scrolled": true
   },
   "outputs": [
    {
     "name": "stdout",
     "output_type": "stream",
     "text": [
      "   Is_amplification  Is_deletion  Is_fusion  Is_insertion  Is_overexpression  \\\n",
      "0                 0            0          0             0                  0   \n",
      "1                 0            0          0             0                  0   \n",
      "2                 0            0          0             0                  0   \n",
      "3                 0            0          0             0                  0   \n",
      "4                 0            0          0             0                  0   \n",
      "\n",
      "   Is_silencing  None stated  mca_cosines_0  mca_cosines_1  mca_cosines_2  \\\n",
      "0             0            1       0.000041   1.087661e-26   2.943787e-28   \n",
      "1             0            1       0.000038   7.607029e-27   1.713720e-28   \n",
      "2             0            1       0.000038   7.724633e-27   1.800156e-28   \n",
      "3             0            1       0.000038   7.635699e-27   1.657837e-28   \n",
      "4             0            1       0.000038   7.617949e-27   1.638938e-28   \n",
      "\n",
      "        ...        mca_cosines_40  mca_cosines_41  mca_cosines_42  \\\n",
      "0       ...          1.042337e-28    7.370715e-27        0.000012   \n",
      "1       ...          2.531271e-29    4.569844e-27        0.000011   \n",
      "2       ...          1.922548e-29    4.619773e-27        0.000011   \n",
      "3       ...          2.560855e-29    4.613389e-27        0.000011   \n",
      "4       ...          2.523873e-29    4.582456e-27        0.000011   \n",
      "\n",
      "   mca_cosines_43  mca_cosines_44  mca_cosines_45  mca_cosines_46  \\\n",
      "0    5.472358e-28    1.783873e-30    5.740609e-29    6.848072e-31   \n",
      "1    3.511224e-28    1.336415e-30    3.143337e-29    6.005498e-31   \n",
      "2    3.336526e-28    2.876120e-30    3.650980e-29    2.120523e-30   \n",
      "3    3.385506e-28    1.516858e-30    3.126311e-29    1.050642e-30   \n",
      "4    3.508889e-28    1.310140e-30    2.859576e-29    1.606088e-30   \n",
      "\n",
      "   mca_cosines_47  mca_cosines_48  mca_cosines_49  \n",
      "0    2.413642e-30    3.983084e-30    1.190488e-29  \n",
      "1    1.377779e-30    2.539872e-29    8.909890e-30  \n",
      "2    3.138160e-30    2.101183e-29    7.783265e-30  \n",
      "3    1.187232e-30    2.514710e-29    9.155930e-30  \n",
      "4    1.744136e-30    2.433716e-29    8.047145e-30  \n",
      "\n",
      "[5 rows x 57 columns]\n"
     ]
    }
   ],
   "source": [
    "#Fig 17\n",
    "def findStuff(x):\n",
    "    n = np.array(x.split()).size\n",
    "    i = x.split()[n - 1]\n",
    "    if i.lower() == 'fusion':\n",
    "        return 'Is_fusion'\n",
    "    elif i.lower() == 'deletion':\n",
    "        return 'Is_deletion'\n",
    "    elif i.lower() == 'insertion':\n",
    "        return 'Is_insertion'\n",
    "    elif i.lower() == 'truncation':\n",
    "        return 'Is_truncation'\n",
    "    elif i.lower() == 'methylation':\n",
    "        return 'Is_methylation'\n",
    "    elif i.lower() == 'amplification':\n",
    "        return 'Is_amplification'\n",
    "    elif i.lower() == 'silencing':\n",
    "        return 'Is_silencing'\n",
    "    elif i.lower() == 'splicing':\n",
    "        return 'Is_splicing'\n",
    "    elif i.lower() == 'exon':\n",
    "        return 'Is_exon'\n",
    "    elif i.lower() == 'overexpression':\n",
    "        return 'Is_overexpression'\n",
    "    else:\n",
    "        return 'None stated'\n",
    "    \n",
    "Is_feats = pd.get_dummies(train_combined['Variation'].apply(lambda x: findStuff(x)))\n",
    "\n",
    "\n",
    "#text_len = pd.Series([len(x) for x in train_combined['Text']])\n",
    "#word_count = pd.Series([len(str(x).split(' ')) for x in train_combined['Text']])\n",
    "\n",
    "cosine = pd.DataFrame(mca_obj.cos_r(N=50), columns=['mca_cosines_' + str(x) for x in range(50)])\n",
    "\n",
    "\n",
    "#new_features = pd.concat([features, text_len.rename('text_len'), word_count.rename('word_count'), fusion, cosine], axis = 1)\n",
    "\n",
    "new_features = pd.concat([Is_feats, cosine], axis = 1)\n",
    "features2 = pd.concat([features, Is_feats, cosine], axis = 1)\n",
    "lbe = LabelEncoder()\n",
    "target = lbe.fit_transform(train_combined['Class'])\n",
    "\n",
    "print(new_features.head(5))\n",
    "X_train2, X_test2, y_train2, y_test2 = train_test_split(features2, target, \n",
    "                                                    test_size=0.1, random_state=7)\n"
   ]
  },
  {
   "cell_type": "code",
   "execution_count": null,
   "metadata": {
    "collapsed": true
   },
   "outputs": [],
   "source": [
    "xgbC2 = XGBClassifier()\n",
    "xgbC2.fit(X_train2, y_train2)\n",
    "pred = xgb2.predict_proba(X_test2)\n",
    "print(log_loss(y_test2, pred))"
   ]
  },
  {
   "cell_type": "code",
   "execution_count": 70,
   "metadata": {
    "collapsed": true
   },
   "outputs": [
    {
     "name": "stdout",
     "output_type": "stream",
     "text": [
      "[0]\ttrain-mlogloss:1.96636+0.00277611\ttest-mlogloss:2.01623+0.00389821\n",
      "[1]\ttrain-mlogloss:1.78136+0.00318584\ttest-mlogloss:1.87723+0.0048385\n",
      "[2]\ttrain-mlogloss:1.63123+0.0033835\ttest-mlogloss:1.76496+0.00413233\n",
      "[3]\ttrain-mlogloss:1.50678+0.00212764\ttest-mlogloss:1.67061+0.0047706\n",
      "[4]\ttrain-mlogloss:1.39802+0.00411204\ttest-mlogloss:1.59049+0.00425473\n",
      "[5]\ttrain-mlogloss:1.30397+0.00356348\ttest-mlogloss:1.52123+0.0051691\n",
      "[6]\ttrain-mlogloss:1.22128+0.00618487\ttest-mlogloss:1.46213+0.00604987\n",
      "[7]\ttrain-mlogloss:1.14617+0.00672643\ttest-mlogloss:1.40985+0.00659469\n",
      "[8]\ttrain-mlogloss:1.07719+0.00790759\ttest-mlogloss:1.36421+0.00722657\n",
      "[9]\ttrain-mlogloss:1.01609+0.00990015\ttest-mlogloss:1.32302+0.00779176\n",
      "[10]\ttrain-mlogloss:0.960955+0.00976124\ttest-mlogloss:1.28689+0.00883048\n",
      "[11]\ttrain-mlogloss:0.910078+0.0096441\ttest-mlogloss:1.2537+0.00850316\n",
      "[12]\ttrain-mlogloss:0.862409+0.0110997\ttest-mlogloss:1.22361+0.00912766\n",
      "[13]\ttrain-mlogloss:0.819432+0.0118186\ttest-mlogloss:1.19622+0.00974888\n",
      "[14]\ttrain-mlogloss:0.778587+0.0120011\ttest-mlogloss:1.17136+0.0103181\n",
      "[15]\ttrain-mlogloss:0.742365+0.0130449\ttest-mlogloss:1.14974+0.0102744\n",
      "[16]\ttrain-mlogloss:0.707616+0.0128558\ttest-mlogloss:1.12998+0.0110638\n",
      "[17]\ttrain-mlogloss:0.675527+0.0141041\ttest-mlogloss:1.11126+0.011592\n",
      "[18]\ttrain-mlogloss:0.645305+0.0144562\ttest-mlogloss:1.09558+0.0121348\n",
      "[19]\ttrain-mlogloss:0.616853+0.014707\ttest-mlogloss:1.08221+0.0130594\n",
      "[20]\ttrain-mlogloss:0.59054+0.0140532\ttest-mlogloss:1.06837+0.013523\n",
      "[21]\ttrain-mlogloss:0.565312+0.0135363\ttest-mlogloss:1.05609+0.0139574\n",
      "[22]\ttrain-mlogloss:0.542248+0.0132889\ttest-mlogloss:1.04522+0.0136535\n",
      "[23]\ttrain-mlogloss:0.520395+0.0134706\ttest-mlogloss:1.0349+0.01399\n",
      "[24]\ttrain-mlogloss:0.500139+0.0130323\ttest-mlogloss:1.02626+0.0143721\n",
      "[25]\ttrain-mlogloss:0.48111+0.0127013\ttest-mlogloss:1.01799+0.0142552\n",
      "[26]\ttrain-mlogloss:0.462794+0.013128\ttest-mlogloss:1.00976+0.0142008\n",
      "[27]\ttrain-mlogloss:0.445146+0.0131214\ttest-mlogloss:1.00258+0.0134716\n",
      "[28]\ttrain-mlogloss:0.428885+0.0134367\ttest-mlogloss:0.996538+0.0131534\n",
      "[29]\ttrain-mlogloss:0.413998+0.0132171\ttest-mlogloss:0.990461+0.0128251\n",
      "[30]\ttrain-mlogloss:0.400143+0.0130054\ttest-mlogloss:0.985396+0.0127709\n",
      "[31]\ttrain-mlogloss:0.387199+0.0128278\ttest-mlogloss:0.980011+0.0128389\n",
      "[32]\ttrain-mlogloss:0.374311+0.0115335\ttest-mlogloss:0.975921+0.0132612\n",
      "[33]\ttrain-mlogloss:0.361813+0.0104793\ttest-mlogloss:0.972077+0.0132119\n",
      "[34]\ttrain-mlogloss:0.35076+0.00923476\ttest-mlogloss:0.968417+0.0136645\n",
      "[35]\ttrain-mlogloss:0.339451+0.0086697\ttest-mlogloss:0.964805+0.0143249\n",
      "[36]\ttrain-mlogloss:0.329759+0.00834227\ttest-mlogloss:0.961615+0.0141536\n",
      "[37]\ttrain-mlogloss:0.31974+0.00795312\ttest-mlogloss:0.959212+0.0145006\n",
      "[38]\ttrain-mlogloss:0.310461+0.00721532\ttest-mlogloss:0.956047+0.0146214\n",
      "[39]\ttrain-mlogloss:0.30179+0.00625529\ttest-mlogloss:0.954052+0.0150237\n",
      "[40]\ttrain-mlogloss:0.293095+0.00583282\ttest-mlogloss:0.952182+0.0147878\n",
      "[41]\ttrain-mlogloss:0.285247+0.00457387\ttest-mlogloss:0.950765+0.0147026\n",
      "[42]\ttrain-mlogloss:0.277798+0.00475223\ttest-mlogloss:0.949539+0.014779\n",
      "[43]\ttrain-mlogloss:0.270215+0.00364458\ttest-mlogloss:0.947818+0.0145671\n",
      "[44]\ttrain-mlogloss:0.263931+0.00285532\ttest-mlogloss:0.94671+0.0144063\n",
      "[45]\ttrain-mlogloss:0.256319+0.00294217\ttest-mlogloss:0.945951+0.0144499\n",
      "[46]\ttrain-mlogloss:0.24919+0.00238998\ttest-mlogloss:0.945623+0.013916\n",
      "[47]\ttrain-mlogloss:0.243016+0.00213409\ttest-mlogloss:0.944925+0.0147867\n",
      "[48]\ttrain-mlogloss:0.236455+0.00206353\ttest-mlogloss:0.944536+0.0146083\n",
      "[49]\ttrain-mlogloss:0.230594+0.00155379\ttest-mlogloss:0.944194+0.0143466\n",
      "[50]\ttrain-mlogloss:0.224461+0.000797185\ttest-mlogloss:0.943802+0.0148727\n",
      "[51]\ttrain-mlogloss:0.218675+0.000968091\ttest-mlogloss:0.943477+0.0151587\n",
      "[52]\ttrain-mlogloss:0.213009+0.000390105\ttest-mlogloss:0.943578+0.0153501\n",
      "[53]\ttrain-mlogloss:0.207521+0.00055426\ttest-mlogloss:0.943936+0.015154\n",
      "[54]\ttrain-mlogloss:0.202741+0.000470151\ttest-mlogloss:0.94395+0.0150691\n",
      "[55]\ttrain-mlogloss:0.197911+0.00071136\ttest-mlogloss:0.944297+0.0150469\n",
      "[56]\ttrain-mlogloss:0.192508+0.000290136\ttest-mlogloss:0.944384+0.0151258\n",
      "[57]\ttrain-mlogloss:0.187661+0.000498686\ttest-mlogloss:0.944563+0.0152048\n",
      "[58]\ttrain-mlogloss:0.182744+0.00105701\ttest-mlogloss:0.945406+0.0154668\n",
      "[59]\ttrain-mlogloss:0.178244+0.00134603\ttest-mlogloss:0.946074+0.0151641\n",
      "[60]\ttrain-mlogloss:0.173564+0.00148992\ttest-mlogloss:0.946164+0.0156737\n",
      "[61]\ttrain-mlogloss:0.169329+0.00146905\ttest-mlogloss:0.946122+0.0158939\n",
      "[62]\ttrain-mlogloss:0.16511+0.00215599\ttest-mlogloss:0.947255+0.0159265\n",
      "[63]\ttrain-mlogloss:0.160551+0.00225017\ttest-mlogloss:0.947981+0.0164976\n",
      "[64]\ttrain-mlogloss:0.156834+0.00212658\ttest-mlogloss:0.948781+0.0161481\n",
      "[65]\ttrain-mlogloss:0.152587+0.00189221\ttest-mlogloss:0.949318+0.0160049\n",
      "[66]\ttrain-mlogloss:0.148888+0.00193785\ttest-mlogloss:0.950608+0.0162885\n",
      "[67]\ttrain-mlogloss:0.145452+0.00160313\ttest-mlogloss:0.951494+0.0167587\n",
      "[68]\ttrain-mlogloss:0.141805+0.00155661\ttest-mlogloss:0.952615+0.0168024\n",
      "[69]\ttrain-mlogloss:0.138354+0.00131096\ttest-mlogloss:0.953397+0.0168032\n",
      "[70]\ttrain-mlogloss:0.134915+0.00144979\ttest-mlogloss:0.954605+0.0169568\n",
      "[71]\ttrain-mlogloss:0.131441+0.00129757\ttest-mlogloss:0.955596+0.0166315\n",
      "[72]\ttrain-mlogloss:0.128451+0.00105433\ttest-mlogloss:0.956809+0.0169329\n",
      "[73]\ttrain-mlogloss:0.124928+0.00074486\ttest-mlogloss:0.958029+0.0173921\n",
      "[74]\ttrain-mlogloss:0.121602+0.000798648\ttest-mlogloss:0.959721+0.0175404\n",
      "[75]\ttrain-mlogloss:0.118412+0.000930604\ttest-mlogloss:0.96089+0.0174277\n",
      "[76]\ttrain-mlogloss:0.115319+0.000861596\ttest-mlogloss:0.962421+0.0172454\n",
      "[77]\ttrain-mlogloss:0.11264+0.00123198\ttest-mlogloss:0.963628+0.0170742\n",
      "[78]\ttrain-mlogloss:0.109815+0.00135202\ttest-mlogloss:0.965159+0.0167913\n",
      "[79]\ttrain-mlogloss:0.106963+0.00128569\ttest-mlogloss:0.966974+0.0174705\n",
      "[80]\ttrain-mlogloss:0.104306+0.00157655\ttest-mlogloss:0.968659+0.0180364\n",
      "[81]\ttrain-mlogloss:0.101334+0.00160007\ttest-mlogloss:0.970183+0.0188596\n",
      "[82]\ttrain-mlogloss:0.0989897+0.00165546\ttest-mlogloss:0.971679+0.018444\n",
      "[83]\ttrain-mlogloss:0.0967527+0.00184176\ttest-mlogloss:0.973031+0.0189364\n",
      "[84]\ttrain-mlogloss:0.0942213+0.00151818\ttest-mlogloss:0.974108+0.0187618\n",
      "[85]\ttrain-mlogloss:0.092009+0.0013791\ttest-mlogloss:0.975781+0.0186729\n",
      "[86]\ttrain-mlogloss:0.089953+0.00149418\ttest-mlogloss:0.977104+0.0182462\n",
      "[87]\ttrain-mlogloss:0.0880067+0.00143995\ttest-mlogloss:0.978422+0.0181529\n",
      "[88]\ttrain-mlogloss:0.0859273+0.00141634\ttest-mlogloss:0.979277+0.018488\n",
      "[89]\ttrain-mlogloss:0.083943+0.00119299\ttest-mlogloss:0.980745+0.0186172\n",
      "[90]\ttrain-mlogloss:0.08205+0.000977391\ttest-mlogloss:0.982033+0.0184632\n",
      "[91]\ttrain-mlogloss:0.0801607+0.000924547\ttest-mlogloss:0.983167+0.0188223\n",
      "[92]\ttrain-mlogloss:0.0781123+0.000831472\ttest-mlogloss:0.984796+0.0183664\n",
      "[93]\ttrain-mlogloss:0.076349+0.000722444\ttest-mlogloss:0.986397+0.0188581\n",
      "[94]\ttrain-mlogloss:0.0746403+0.000549013\ttest-mlogloss:0.988069+0.018459\n",
      "[95]\ttrain-mlogloss:0.0729833+0.000602025\ttest-mlogloss:0.990089+0.0179944\n",
      "[96]\ttrain-mlogloss:0.0713853+0.000468336\ttest-mlogloss:0.99151+0.0179743\n",
      "[97]\ttrain-mlogloss:0.0697877+0.000449228\ttest-mlogloss:0.99288+0.0182809\n",
      "[98]\ttrain-mlogloss:0.068228+0.000425771\ttest-mlogloss:0.994763+0.0184015\n",
      "[99]\ttrain-mlogloss:0.0667023+0.000423305\ttest-mlogloss:0.996165+0.0185152\n",
      "[100]\ttrain-mlogloss:0.0651523+0.000567392\ttest-mlogloss:0.997759+0.0186139\n",
      "[101]\ttrain-mlogloss:0.063713+0.000515382\ttest-mlogloss:0.999188+0.0182694\n",
      "[102]\ttrain-mlogloss:0.0623683+0.000366611\ttest-mlogloss:1.00065+0.0178446\n",
      "[103]\ttrain-mlogloss:0.0610527+0.000373157\ttest-mlogloss:1.00208+0.0177857\n",
      "[104]\ttrain-mlogloss:0.059829+0.000462347\ttest-mlogloss:1.00324+0.0179207\n",
      "[105]\ttrain-mlogloss:0.0585867+0.000477295\ttest-mlogloss:1.00475+0.0181559\n",
      "[106]\ttrain-mlogloss:0.0574363+0.000431661\ttest-mlogloss:1.00585+0.0177895\n",
      "[107]\ttrain-mlogloss:0.0563573+0.000499396\ttest-mlogloss:1.0075+0.0177949\n",
      "[108]\ttrain-mlogloss:0.0552103+0.000499262\ttest-mlogloss:1.00906+0.0178841\n",
      "[109]\ttrain-mlogloss:0.054159+0.00044151\ttest-mlogloss:1.01064+0.0177865\n",
      "[110]\ttrain-mlogloss:0.0530487+0.000450494\ttest-mlogloss:1.01239+0.0179611\n",
      "[111]\ttrain-mlogloss:0.051981+0.000422522\ttest-mlogloss:1.01402+0.01816\n",
      "[112]\ttrain-mlogloss:0.0509593+0.000373832\ttest-mlogloss:1.01553+0.0184968\n",
      "[113]\ttrain-mlogloss:0.050019+0.000426273\ttest-mlogloss:1.01669+0.018148\n",
      "[114]\ttrain-mlogloss:0.0491147+0.000398566\ttest-mlogloss:1.01792+0.0183692\n",
      "[115]\ttrain-mlogloss:0.0481887+0.000387579\ttest-mlogloss:1.01896+0.0179585\n",
      "[116]\ttrain-mlogloss:0.0472973+0.000349444\ttest-mlogloss:1.02044+0.0178409\n",
      "[117]\ttrain-mlogloss:0.0464357+0.000341169\ttest-mlogloss:1.02208+0.018\n",
      "[118]\ttrain-mlogloss:0.045582+0.000274067\ttest-mlogloss:1.02339+0.0183422\n",
      "[119]\ttrain-mlogloss:0.0447293+0.000272732\ttest-mlogloss:1.02515+0.0180341\n",
      "[120]\ttrain-mlogloss:0.0438717+0.000316285\ttest-mlogloss:1.0272+0.0178337\n",
      "[121]\ttrain-mlogloss:0.0431287+0.000348244\ttest-mlogloss:1.02896+0.0178342\n",
      "[122]\ttrain-mlogloss:0.0424213+0.000324758\ttest-mlogloss:1.03016+0.0179291\n",
      "[123]\ttrain-mlogloss:0.0416773+0.000319222\ttest-mlogloss:1.03202+0.0179613\n",
      "[124]\ttrain-mlogloss:0.040923+0.0002828\ttest-mlogloss:1.03337+0.0179433\n",
      "[125]\ttrain-mlogloss:0.0402643+0.000252642\ttest-mlogloss:1.03452+0.0180701\n",
      "[126]\ttrain-mlogloss:0.0395797+0.000291764\ttest-mlogloss:1.03596+0.0180199\n",
      "[127]\ttrain-mlogloss:0.038956+0.000297309\ttest-mlogloss:1.03718+0.0181758\n",
      "[128]\ttrain-mlogloss:0.0382547+0.000290362\ttest-mlogloss:1.0385+0.0180331\n",
      "[129]\ttrain-mlogloss:0.037604+0.000250959\ttest-mlogloss:1.0399+0.0177608\n",
      "[130]\ttrain-mlogloss:0.0369617+0.000227815\ttest-mlogloss:1.04086+0.0175778\n",
      "[131]\ttrain-mlogloss:0.036364+0.000205757\ttest-mlogloss:1.04223+0.0176287\n",
      "[132]\ttrain-mlogloss:0.035781+0.000222652\ttest-mlogloss:1.04356+0.0181713\n",
      "[133]\ttrain-mlogloss:0.0352473+0.000241289\ttest-mlogloss:1.04495+0.0181083\n",
      "[134]\ttrain-mlogloss:0.034704+0.000215872\ttest-mlogloss:1.04651+0.0176414\n",
      "[135]\ttrain-mlogloss:0.0341437+0.000195401\ttest-mlogloss:1.048+0.0175801\n",
      "[136]\ttrain-mlogloss:0.0336143+0.000178461\ttest-mlogloss:1.04928+0.0174031\n",
      "[137]\ttrain-mlogloss:0.033111+0.000159599\ttest-mlogloss:1.05032+0.0178836\n",
      "[138]\ttrain-mlogloss:0.032599+0.000185213\ttest-mlogloss:1.05173+0.0175338\n",
      "[139]\ttrain-mlogloss:0.0321323+0.000172272\ttest-mlogloss:1.0528+0.0174097\n",
      "[140]\ttrain-mlogloss:0.031707+0.000152147\ttest-mlogloss:1.05438+0.017826\n",
      "[141]\ttrain-mlogloss:0.031257+0.000120916\ttest-mlogloss:1.05542+0.0179389\n",
      "[142]\ttrain-mlogloss:0.0307647+0.000102542\ttest-mlogloss:1.05678+0.0182429\n",
      "[143]\ttrain-mlogloss:0.0303303+0.000111646\ttest-mlogloss:1.05768+0.0182274\n",
      "[144]\ttrain-mlogloss:0.029896+0.000146542\ttest-mlogloss:1.05882+0.0177932\n",
      "[145]\ttrain-mlogloss:0.0294687+0.000137116\ttest-mlogloss:1.05939+0.0179089\n",
      "[146]\ttrain-mlogloss:0.0290747+0.000160446\ttest-mlogloss:1.0604+0.0180631\n",
      "[147]\ttrain-mlogloss:0.0286747+0.000168794\ttest-mlogloss:1.06157+0.0181577\n",
      "[148]\ttrain-mlogloss:0.028283+0.000141706\ttest-mlogloss:1.06276+0.0179337\n",
      "[149]\ttrain-mlogloss:0.0279167+0.00011565\ttest-mlogloss:1.0639+0.0179641\n",
      "[150]\ttrain-mlogloss:0.0275283+9.57265e-05\ttest-mlogloss:1.06489+0.0176531\n"
     ]
    },
    {
     "data": {
      "text/html": [
       "<div>\n",
       "<style>\n",
       "    .dataframe thead tr:only-child th {\n",
       "        text-align: right;\n",
       "    }\n",
       "\n",
       "    .dataframe thead th {\n",
       "        text-align: left;\n",
       "    }\n",
       "\n",
       "    .dataframe tbody tr th {\n",
       "        vertical-align: top;\n",
       "    }\n",
       "</style>\n",
       "<table border=\"1\" class=\"dataframe\">\n",
       "  <thead>\n",
       "    <tr style=\"text-align: right;\">\n",
       "      <th></th>\n",
       "      <th>test-mlogloss-mean</th>\n",
       "      <th>test-mlogloss-std</th>\n",
       "      <th>train-mlogloss-mean</th>\n",
       "      <th>train-mlogloss-std</th>\n",
       "    </tr>\n",
       "  </thead>\n",
       "  <tbody>\n",
       "    <tr>\n",
       "      <th>47</th>\n",
       "      <td>0.944925</td>\n",
       "      <td>0.014787</td>\n",
       "      <td>0.243016</td>\n",
       "      <td>0.002134</td>\n",
       "    </tr>\n",
       "    <tr>\n",
       "      <th>48</th>\n",
       "      <td>0.944536</td>\n",
       "      <td>0.014608</td>\n",
       "      <td>0.236455</td>\n",
       "      <td>0.002064</td>\n",
       "    </tr>\n",
       "    <tr>\n",
       "      <th>49</th>\n",
       "      <td>0.944194</td>\n",
       "      <td>0.014347</td>\n",
       "      <td>0.230594</td>\n",
       "      <td>0.001554</td>\n",
       "    </tr>\n",
       "    <tr>\n",
       "      <th>50</th>\n",
       "      <td>0.943802</td>\n",
       "      <td>0.014873</td>\n",
       "      <td>0.224461</td>\n",
       "      <td>0.000797</td>\n",
       "    </tr>\n",
       "    <tr>\n",
       "      <th>51</th>\n",
       "      <td>0.943477</td>\n",
       "      <td>0.015159</td>\n",
       "      <td>0.218675</td>\n",
       "      <td>0.000968</td>\n",
       "    </tr>\n",
       "  </tbody>\n",
       "</table>\n",
       "</div>"
      ],
      "text/plain": [
       "    test-mlogloss-mean  test-mlogloss-std  train-mlogloss-mean  \\\n",
       "47            0.944925           0.014787             0.243016   \n",
       "48            0.944536           0.014608             0.236455   \n",
       "49            0.944194           0.014347             0.230594   \n",
       "50            0.943802           0.014873             0.224461   \n",
       "51            0.943477           0.015159             0.218675   \n",
       "\n",
       "    train-mlogloss-std  \n",
       "47            0.002134  \n",
       "48            0.002064  \n",
       "49            0.001554  \n",
       "50            0.000797  \n",
       "51            0.000968  "
      ]
     },
     "execution_count": 70,
     "metadata": {},
     "output_type": "execute_result"
    }
   ],
   "source": [
    "#Fig 18\n",
    "\n",
    "dmatrix = xgb.DMatrix(features2, target)\n",
    "\n",
    "xgb_params_cv = dict(eta=0.1,\n",
    "                  objective='multi:softprob',\n",
    "                  num_class=9,\n",
    "                  seed=7)\n",
    "\n",
    "best = xgb.cv(params = xgb_params_cv, dtrain=dmatrix, num_boost_round=1000, metrics='mlogloss', early_stopping_rounds=100, verbose_eval=True)\n",
    "\n",
    "best.tail(5)               "
   ]
  },
  {
   "cell_type": "code",
   "execution_count": null,
   "metadata": {
    "collapsed": true
   },
   "outputs": [],
   "source": [
    "\"\"\"\n",
    "Step by step grid search parameter tuning for XGBoost, as explained by \n",
    "https://www.analyticsvidhya.com/blog/2016/03/complete-guide-parameter-tuning-xgboost-with-codes-python\n",
    "\"\"\"\n",
    "\n",
    "param_test1 = {\n",
    " 'max_depth':[6,7,8],\n",
    " 'min_child_weight':[4,5,6]}\n",
    "\n",
    " \n",
    "param_test2 = {\n",
    " 'max_depth':[4,5,6],\n",
    " 'min_child_weight':[8,9,10]}\n",
    "\n",
    "param_test3 = {\n",
    " 'gamma':[i/10.0 for i in range(0,5)]}\n",
    "\n",
    "\n",
    "param_test4 = {\n",
    " 'subsample':[i/10.0 for i in range(6,10)],\n",
    " 'colsample_bytree':[i/10.0 for i in range(6,10)]}\n",
    "\n",
    "\n",
    "param_test5 = {\n",
    " 'reg_alpha':[1e-5, 1e-4, 1e-3]}\n",
    "\n",
    "\n",
    "param_test6 = {\n",
    " 'reg_alpha':[0.1, 0.2, 0.3]}\n",
    "\n",
    "param_test6dot5 = {\n",
    " 'reg_alpha':[1e-7, 1e-8, 1e-9]}\n",
    "\n",
    "param_test7 = {\n",
    "   'learning_rate':[0.11, 0.12, 0.13]}\n",
    "\n",
    "param_test8 = {\n",
    "   'learning_rate':[0.13\"\"\" 0.14, 0.15\"\"\"]}\n",
    "\n",
    "#Optimal parameters for this tree\n",
    "grid = GridSearchCV(estimator=XGBClassifier(learning_rate=0.13,\n",
    "                  n_estimators=55,\n",
    "                  max_depth=5,\n",
    "                  min_child_weight=8,\n",
    "                  gamma=0,\n",
    "                  subsample=0.9,\n",
    "                  colsample_bytree=0.6,\n",
    "                  objective='multi:softprob',\n",
    "                  nthread=4,\n",
    "                  scale_pos_weight=1,\n",
    "                  reg_alpha=0.0001,\n",
    "                  seed=7), \n",
    "                     param_grid = param_test8, scoring='log_loss',n_jobs=4, cv=5)\n",
    "\n",
    "grid.fit(X_train2,y_train2)"
   ]
  },
  {
   "cell_type": "code",
   "execution_count": 5,
   "metadata": {
    "collapsed": false
   },
   "outputs": [],
   "source": [
    "#Complete pipeline to tune data preprocessing and estimator if enough time\n",
    "class ColumnSelector(BaseEstimator, TransformerMixin):\n",
    "    def __init__(self, key):\n",
    "        self.key = key\n",
    "\n",
    "    def fit(self, X, y=None):\n",
    "        return self\n",
    "\n",
    "    def transform(self, X): \n",
    "        return X[self.key]\n",
    "    \n",
    "class DummyMCA(BaseEstimator, TransformerMixin):\n",
    "    def __init__(self, n_factors):\n",
    "        self.n_factors = n_factors\n",
    "\n",
    "    def fit(self, X, y=None):\n",
    "        return self\n",
    "\n",
    "    def transform(self, X):\n",
    "        mca_obj = mca.MCA(pd.get_dummies(X), TOL=1e-2)\n",
    "        factors = pd.DataFrame(mca_obj.fs_r(N=self.n_factors), columns= ['mca_factor' + str(x) for x in range(self.n_factors)])\n",
    "        cosines = pd.DataFrame(mca_obj.fs_r(N=self.n_factors), columns= ['mca_cosine' + str(x) for x in range(self.n_factors)])\n",
    "        mca_df = pd.concat([factors, cosines], axis =1)\n",
    "        return mca_df\n",
    "    \n",
    "    \n",
    "\n",
    "pipeline = Pipeline(steps=[\n",
    "    ('union', FeatureUnion(\n",
    "        transformer_list=[\n",
    "            ('transform_text',\n",
    "             Pipeline([\n",
    "                 ('select_column', ColumnSelector(key='Text')),\n",
    "                 ('tfidf', TfidfVectorizer(analyzer='word', max_df=0.9, stop_words='english', norm='l2',\n",
    "                                           sublinear_tf=True, use_idf=True)),\n",
    "                 ('svd', TruncatedSVD(algorithm='randomized', n_components=100)),\n",
    "             ])\n",
    "             ),\n",
    "            ('transform_categories',\n",
    "             Pipeline([\n",
    "                 ('select_columns', ColumnSelector(key=['Gene', 'Variation'])),\n",
    "                 ('dummy_mca', DummyMCA(n_factors=207)),\n",
    "             ])\n",
    "             ),\n",
    "        ],\n",
    "    )),\n",
    "    ('xgb', XGBClassifier(learning_rate=0.13,\n",
    "                  n_estimators=55,\n",
    "                  max_depth=5,\n",
    "                  min_child_weight=8,\n",
    "                  gamma=0,\n",
    "                  subsample=0.9,\n",
    "                  colsample_bytree=0.6,\n",
    "                  objective='multi:softprob',\n",
    "                  nthread=4,\n",
    "                  scale_pos_weight=1,\n",
    "                  reg_alpha=0.0001,\n",
    "                  seed=7)),\n",
    "])\n",
    "\n",
    "params = dict(\n",
    "    union__transform_text__tfidf__max_df=[1, 0.9],\n",
    "    union__transform_text__tfidf__ngram_range=[(1, 1), (1, 2)],\n",
    "    union__transform_text__svd_text__n_components=[100, 200, 300],\n",
    "    union__transform_text__svd_text__n_iter=[5, 7],\n",
    "    union__transform_categories__dummy_mca__n_factors=[50, 100],\n",
    "    xgb__learning_rate=[0.1, 0.05, 0.01],\n",
    "    xgb__max_depth=[2,3,5],\n",
    "    xgb_min_child_weight=[6,7,8])\n",
    "\n",
    "#grid = GridSearchCV(pipeline, param_grid=params)\n",
    "#grid.fit(X_train2, y_train2)"
   ]
  },
  {
   "cell_type": "markdown",
   "metadata": {},
   "source": [
    "# Model Evaluation"
   ]
  },
  {
   "cell_type": "code",
   "execution_count": 32,
   "metadata": {
    "collapsed": false,
    "scrolled": true
   },
   "outputs": [],
   "source": [
    "get_ids = s1_solution['ID'].values\n",
    "cases = test_combined.iloc[get_ids]\n",
    "cases_features = cases[['Gene', 'Variation', 'Text']]\n",
    "\n",
    "a = s1_solution.drop(['ID'], axis=1)\n",
    "a.columns= [1,2,3,4,5,6,7,8,9]\n",
    "cases_target = lbe.fit_transform(a.idxmax(1))\n",
    "\n",
    "\n",
    "train_features = train_combined[['Gene', 'Variation', 'Text']]\n",
    "lbe = LabelEncoder()\n",
    "target3 = lbe.fit_transform(train_combined['Class'])\n",
    "\n",
    "pipe1 = pipeline.fit(train_features, target3)\n",
    "unseen_pred = pipe1.predict_proba(cases_features)\n",
    "result = log_loss(cases_target, unseen_pred)\n",
    "print(result)"
   ]
  },
  {
   "cell_type": "code",
   "execution_count": 37,
   "metadata": {
    "collapsed": false
   },
   "outputs": [
    {
     "data": {
      "text/plain": [
       "<matplotlib.axes._subplots.AxesSubplot at 0x1d586609be0>"
      ]
     },
     "execution_count": 37,
     "metadata": {},
     "output_type": "execute_result"
    },
    {
     "data": {
      "image/png": "[encoded data removed]",
      "text/plain": [
       "<matplotlib.figure.Figure at 0x1d58489db00>"
      ]
     },
     "metadata": {},
     "output_type": "display_data"
    }
   ],
   "source": [
    "#Fig 18\n",
    "lbe = LabelEncoder()\n",
    "target3 = lbe.fit_transform(train_combined['Class'])\n",
    "\n",
    "features3 = train_combined[['Gene', 'Variation', 'Text']]\n",
    "\n",
    "X_train3, X_test3, y_train3, y_test3 = train_test_split(features3, target3, \n",
    "                                                    test_size=0.1, random_state=0)\n",
    "\n",
    "pipe2 = pipeline.fit(X_train3, y_train3)\n",
    "pred3 = pipeline.predict(X_test3)\n",
    "\n",
    "conf_matrix = confusion_matrix(y_test3, pred3)\n",
    "\n",
    "xlabels = ['True_Class_' + str(x) for x in range(1,10)]\n",
    "ylabels = ['Predicted_Class_' + str(x) for x in range(1,10)]\n",
    "sns.set\n",
    "sns.heatmap(conf_matrix, annot=True, xticklabels=xlabels, yticklabels=ylabels)"
   ]
  },
  {
   "cell_type": "code",
   "execution_count": 35,
   "metadata": {
    "collapsed": false
   },
   "outputs": [
    {
     "data": {
      "text/plain": [
       "<matplotlib.axes._subplots.AxesSubplot at 0x1d584d9c828>"
      ]
     },
     "execution_count": 35,
     "metadata": {},
     "output_type": "execute_result"
    },
    {
     "data": {
      "image/png": "[encoded data removed]",
      "text/plain": [
       "<matplotlib.figure.Figure at 0x1d5853ae7f0>"
      ]
     },
     "metadata": {},
     "output_type": "display_data"
    }
   ],
   "source": [
    "#Confusion matrix with stage 1 solution as unseen data\n",
    "unseen_pred2 = pipeline.predict(cases_features)\n",
    "unseen_conf_matrix = confusion_matrix(cases_target, unseen_pred2)\n",
    "\n",
    "sns.heatmap(unseen_conf_matrix, annot=True, xticklabels=xlabels, yticklabels=ylabels)"
   ]
  },
  {
   "cell_type": "code",
   "execution_count": 59,
   "metadata": {
    "collapsed": false
   },
   "outputs": [],
   "source": [
    "#Adding ROC AUC chart to model evaluation \n",
    "#http://scikit-learn.org/stable/auto_examples/model_selection/plot_roc.html\n",
    "\n",
    "target3 = label_binarize(train_combined['Class'], classes=[1,2,3,4,5,6,7,8,9])\n",
    "n_classes = 9\n",
    "\n",
    "\n",
    "X_train3, X_test3, y_train3, y_test3 = train_test_split(features2, target3, \n",
    "                                                    test_size=0.1, random_state=0)\n",
    "\n",
    "classifier = OneVsRestClassifier(GradientBoostingClassifier(learning_rate=0.13,\n",
    "                  n_estimators=55,\n",
    "                  max_depth=5,\n",
    "                  min_samples_split=8,\n",
    "                  #gamma=0,\n",
    "                  subsample=0.9\n",
    "                  ))\n",
    "\n",
    "y_score = classifier.fit(X_train3, y_train3).predict_proba(X_test3)\n",
    "\n",
    "\n",
    "\n",
    "fpr = dict()\n",
    "tpr = dict()\n",
    "roc_auc = dict()\n",
    "for i in range(n_classes):\n",
    "    fpr[i], tpr[i], _ = roc_curve(y_test3[:, i], y_score[:, i])\n",
    "    roc_auc[i] = auc(fpr[i], tpr[i])\n",
    "\n",
    "\n",
    "fpr[\"micro\"], tpr[\"micro\"], _ = roc_curve(y_test3.ravel(), y_score.ravel())\n",
    "roc_auc[\"micro\"] = auc(fpr[\"micro\"], tpr[\"micro\"])\n"
   ]
  },
  {
   "cell_type": "markdown",
   "metadata": {
    "collapsed": false
   },
   "source": [
    "#Fig 19\n",
    "colors = list(['red', 'blue', 'green', 'aqua','pink','orange', 'purple', 'yellow', 'cornflowerblue'])\n",
    "for i, color in zip(range(n_classes), colors):\n",
    "    plt.plot(fpr[i], tpr[i], color=color, lw=lw,\n",
    "             label='ROC curve of class {0} (area = {1:0.2f})'\n",
    "             ''.format(i, roc_auc[i]))\n",
    "    \n",
    "plt.plot([0, 1], [0, 1], 'k--', lw=lw)\n",
    "plt.xlim([0.0, 1.0])\n",
    "plt.ylim([0.0, 1.05])\n",
    "plt.xlabel('False Positive Rate')\n",
    "plt.ylabel('True Positive Rate')\n",
    "plt.legend(loc=\"lower right\")\n",
    "plt.show()"
   ]
  },
  {
   "cell_type": "markdown",
   "metadata": {},
   "source": [
    "# Conclusion"
   ]
  },
  {
   "cell_type": "code",
   "execution_count": null,
   "metadata": {
    "collapsed": true
   },
   "outputs": [],
   "source": [
    "vec2 = TfidfVectorizer(ngram_range=(5,12), max_features=200\n",
    "                       vec2.fit_transform(train_text['Text'][:300])\n",
    "vec2.vocabulary_"
   ]
  },
  {
   "cell_type": "markdown",
   "metadata": {},
   "source": [
    "# Continuation "
   ]
  },
  {
   "cell_type": "code",
   "execution_count": null,
   "metadata": {
    "collapsed": true
   },
   "outputs": [],
   "source": [
    "import theanos "
   ]
  }
 ],
 "metadata": {
  "anaconda-cloud": {},
  "kernelspec": {
   "display_name": "Python [conda root]",
   "language": "python",
   "name": "conda-root-py"
  },
  "language_info": {
   "codemirror_mode": {
    "name": "ipython",
    "version": 3
   },
   "file_extension": ".py",
   "mimetype": "text/x-python",
   "name": "python",
   "nbconvert_exporter": "python",
   "pygments_lexer": "ipython3",
   "version": "3.5.4"
  }
 },
 "nbformat": 4,
 "nbformat_minor": 1
}
